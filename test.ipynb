{
 "cells": [
  {
   "cell_type": "markdown",
   "metadata": {},
   "source": [
    "# Request with fake data"
   ]
  },
  {
   "cell_type": "code",
   "execution_count": 22,
   "metadata": {},
   "outputs": [
    {
     "name": "stdout",
     "output_type": "stream",
     "text": [
      "{'probas': [0.2366843920794001], 'scores': [0], 'thresholds': [0.3]}\n"
     ]
    }
   ],
   "source": [
    "import requests\n",
    "\n",
    "url = \"https://openclassrooms-projet-7-api-d1ec900c726b.herokuapp.com/\"\n",
    "\n",
    "body = [{\n",
    "    'AMT_ANNUITY': 0,\n",
    "    'AMT_CREDIT': 0,\n",
    "    'AMT_GOODS_PRICE': 0,\n",
    "    'CODE_GENDER': 0,\n",
    "    'DAYS_EMPLOYED': 0,\n",
    "    'EXT_SOURCE_1': 0,\n",
    "    'EXT_SOURCE_2': 0,\n",
    "    'EXT_SOURCE_3': 0,\n",
    "    'NAME_EDUCATION_TYPE_Highereducation': 0,\n",
    "    'OWN_CAR_AGE': 0,\n",
    "    'PAYMENT_RATE': 0, \n",
    "}]\n",
    "\n",
    "response = requests.post(f\"{url}/predict\", json=body)\n",
    "print(response.json())"
   ]
  }
 ],
 "metadata": {
  "kernelspec": {
   "display_name": "base",
   "language": "python",
   "name": "python3"
  },
  "language_info": {
   "codemirror_mode": {
    "name": "ipython",
    "version": 3
   },
   "file_extension": ".py",
   "mimetype": "text/x-python",
   "name": "python",
   "nbconvert_exporter": "python",
   "pygments_lexer": "ipython3",
   "version": "3.12.3"
  }
 },
 "nbformat": 4,
 "nbformat_minor": 2
}
