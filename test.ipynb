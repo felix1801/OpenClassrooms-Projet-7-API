{
 "cells": [
  {
   "cell_type": "code",
   "execution_count": 1,
   "metadata": {},
   "outputs": [],
   "source": [
    "import requests"
   ]
  },
  {
   "cell_type": "code",
   "execution_count": 8,
   "metadata": {},
   "outputs": [],
   "source": [
    "url = \"http://127.0.0.1:8001/predict\"\n",
    "\n",
    "body = {\n",
    "    'PAYMENT_RATE': 12, \n",
    "    'EXT_SOURCE_3': 12, \n",
    "    'EXT_SOURCE_2': 12, \n",
    "    'DAYS_BIRTH': 12, \n",
    "    'EXT_SOURCE_1': 12, \n",
    "    'DAYS_EMPLOYED_PERC': 12, \n",
    "    'ANNUITY_INCOME_PERC': 12, \n",
    "    'INSTAL_DBD_MEAN': 12, \n",
    "    'DAYS_LAST_PHONE_CHANGE': 12, \n",
    "    'REGION_POPULATION_RELATIVE': 12, \n",
    "    'ACTIVE_DAYS_CREDIT_UPDATE_MEAN': 12, \n",
    "}\n",
    "\n"
   ]
  },
  {
   "cell_type": "code",
   "execution_count": 11,
   "metadata": {},
   "outputs": [
    {
     "name": "stdout",
     "output_type": "stream",
     "text": [
      "{'probability': 0.0, 'score': 0}\n"
     ]
    }
   ],
   "source": [
    "response = requests.post(url, json=body)\n",
    "print(response.json())"
   ]
  }
 ],
 "metadata": {
  "kernelspec": {
   "display_name": "base",
   "language": "python",
   "name": "python3"
  },
  "language_info": {
   "codemirror_mode": {
    "name": "ipython",
    "version": 3
   },
   "file_extension": ".py",
   "mimetype": "text/x-python",
   "name": "python",
   "nbconvert_exporter": "python",
   "pygments_lexer": "ipython3",
   "version": "3.12.3"
  }
 },
 "nbformat": 4,
 "nbformat_minor": 2
}
